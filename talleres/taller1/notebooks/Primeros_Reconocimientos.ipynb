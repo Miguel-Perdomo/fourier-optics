{
 "cells": [
  {
   "cell_type": "code",
   "execution_count": 9,
   "id": "6695fb60",
   "metadata": {},
   "outputs": [],
   "source": [
    "#Paquetes:\n",
    "\n",
    "import numpy as np\n",
    "from PIL import Image #Se importa con pip install pillow, sirve para manejar imágenes\n",
    "import matplotlib.pyplot as plt"
   ]
  },
  {
   "cell_type": "code",
   "execution_count": 25,
   "id": "c76d83d2",
   "metadata": {},
   "outputs": [
    {
     "name": "stdout",
     "output_type": "stream",
     "text": [
      "(480, 480)\n"
     ]
    },
    {
     "name": "stderr",
     "output_type": "stream",
     "text": [
      "/tmp/ipykernel_28411/282621275.py:10: DeprecationWarning: 'mode' parameter is deprecated and will be removed in Pillow 13 (2026-10-15)\n",
      "  return img_arr, Image.fromarray(img_arr, mode='L') #mode L indica escala de grises IMPORTANTE GUARDARLO COMO ARRAY PARA HACER OPERACIONES\n"
     ]
    }
   ],
   "source": [
    "def create_sine_pattern(size=480, cycles=10):\n",
    "    # size: dimensión (cuadrada)\n",
    "    # cycles: número de ciclos de seno a lo largo de la imagen\n",
    "    x = np.linspace(0, 2*np.pi * cycles, size) #es decir el periodo es cycles\n",
    "    y = np.linspace(0, 2*np.pi * cycles, size)\n",
    "    X, Y = np.meshgrid(x, y) \n",
    "    # patrón senoidal en una dirección\n",
    "    pattern = (np.sin(X) + 1) / 2  # valores entre 0 y 1\n",
    "    img_arr = (pattern * 255).astype(np.uint8) #al multiplicar por 255 lo llevamos a [0, 255]\n",
    "    return img_arr, Image.fromarray(img_arr, mode='L') #mode L indica escala de grises IMPORTANTE GUARDARLO COMO ARRAY PARA HACER OPERACIONES\n",
    "\n",
    "# Ejemplo:\n",
    "# Desempaquetar\n",
    "arr, img = create_sine_pattern(size=480, cycles=10)\n",
    "\n",
    "# Ahora sí:\n",
    "print(arr.shape)   # array NumPy para FFT -> (480,480)\n",
    "img.show()         # objeto PIL.Image -> lo abre en visor\n",
    "\n",
    "#img.save(\"sine_pattern_480.png\")  De esa forma se guarda la imágen"
   ]
  },
  {
   "cell_type": "markdown",
   "id": "3e1e6b49",
   "metadata": {},
   "source": [
    "# FFT\n",
    "\n",
    "NumPy en Python es el que implementa la transformada discreta de Fourier (DFT) y por supuesto la transformada rápida (FFT). Trabajamos entonces con señales finitas y además la máquina asume periodicidad. Toda la documentación de su implementación se encuentra consignada en: https://numpy.org/doc/stable/reference/routines.fft.html \n",
    "\n",
    "## Implementación \n",
    "\n",
    "Como brochazo de la documentación es bueno recordar la definición de DFT tal como el profe la dio:\n",
    "\n",
    "$$\n",
    "X[k] = \\sum_{n=0}^{N-1} x[n]  e^{-j \\tfrac{2\\pi}{N}kn}, \n",
    "\\quad k = 0,1,2,\\dots,N-1\n",
    "$$\n",
    "\n",
    "Es claro entonces que k denota dominio frecuencial y n dominio espacial/temporal. Acá es importante notar de la documentación como llamar la inversa: \n",
    "\n",
    "- `np.fft.fft(x)` - esta es la manera de hacer una transformada de Fourier **OJO** en 1D\n",
    "- `np.fft.ifft(x)` - eso hace la inversa en 1D\n",
    "\n",
    "Para 2 dimensiones se implementa con la notación:\n",
    "\n",
    "- `np.fft.fft2(x)`\n",
    "\n",
    "Y como nos imaginamos para n-dimensiones de la siguiente manera: \n",
    "\n",
    "- `np.fft.fftn()`\n",
    "\n",
    "Cabe aclarar que existe también la implementación para cuando nuestro input es real, simplemente se hace:\n",
    "\n",
    "- `np.fft.rfft(x)`\n",
    "\n",
    "Entonces, centrémonos en qué recibe la función `numpy.fft.fft(a, n=None, axis=-1, norm=None)`\n",
    "\n",
    "\n",
    "## Parámetros de la función FFT\n",
    "\n",
    "### `a` (array_like)\n",
    "**Entrada** que quieres transformar (vector 1D, o si es un array multidimensional, aplica la FFT a lo largo del eje que indiques).  \n",
    "Puede ser **real** o **complejo**.\n",
    "\n",
    "### `n` (opcional, int)\n",
    "Número de puntos de la FFT.  \n",
    "- Si `n` es **mayor** que la longitud de `a` → rellena con **ceros al final**  \n",
    "- Si `n` es **menor** → **trunca** `a`  \n",
    "- Si no lo especificas → usa la longitud de `a` en el eje especificado\n",
    "\n",
    "### `axis` (opcional, int, por defecto = -1)\n",
    "El eje del array sobre el que se calcula la FFT.  \n",
    "- **-1** significa \"último eje\" (ejemplo típico: en un array 2D calcula la FFT de cada fila)\n",
    "\n",
    "### `norm` (opcional, {None, \"ortho\"})\n",
    "Normalización.  \n",
    "\n",
    "| Valor | Descripción |\n",
    "|-------|-------------|\n",
    "| **None** (por defecto) | La directa no lleva factor $1/N$. La inversa (`ifft`) sí lleva $1/N$ |\n",
    "| **\"ortho\"** | Hace la FFT y la IFFT simétricamente normalizadas, con factor $1/\\sqrt{N}$ |\n",
    "\n",
    "\n",
    "\n",
    "\n",
    "\n"
   ]
  },
  {
   "cell_type": "code",
   "execution_count": 8,
   "id": "2fca0b23",
   "metadata": {},
   "outputs": [
    {
     "name": "stdout",
     "output_type": "stream",
     "text": [
      "Señal original x: [1. 2. 3. 4.]\n",
      "\n",
      "Caso 1: fft(x) -> (n=None, axis=-1, norm=None)\n",
      "[10.+0.j -2.+2.j -2.+0.j -2.-2.j]\n",
      "\n",
      "Caso 2: fft(x, n=8) -> zero padding hasta longitud 8\n",
      "[10.        +0.j         -0.41421356-7.24264069j -2.        +2.j\n",
      "  2.41421356-1.24264069j -2.        +0.j          2.41421356+1.24264069j\n",
      " -2.        -2.j         -0.41421356+7.24264069j]\n",
      "\n",
      "Caso 3: fft(x, n=2) -> truncado a longitud 2\n",
      "[ 3.+0.j -1.+0.j]\n",
      "\n",
      "Caso 4: fft(x, norm='ortho') -> normalización simétrica\n",
      "[ 5.+0.j -1.+1.j -1.+0.j -1.-1.j]\n",
      "\n",
      "Caso 5: fft(X, axis=0) -> FFT columna a columna\n",
      "[[ 6.+0.j  8.+0.j 10.+0.j 12.+0.j]\n",
      " [-4.+0.j -4.+0.j -4.+0.j -4.+0.j]]\n",
      "\n",
      "Caso 6: fft(X, axis=1) -> FFT fila a fila\n",
      "[[10.+0.j -2.+2.j -2.+0.j -2.-2.j]\n",
      " [26.+0.j -2.+2.j -2.+0.j -2.-2.j]]\n"
     ]
    }
   ],
   "source": [
    "\n",
    "# Señal de ejemplo (1D)\n",
    "x = np.array([1, 2, 3, 4], dtype=float)\n",
    "print(\"Señal original x:\", x)\n",
    "\n",
    "# ===== Caso 1: básico =====\n",
    "X1 = np.fft.fft(x)\n",
    "print(\"\\nCaso 1: fft(x) -> (n=None, axis=-1, norm=None)\")\n",
    "print(X1)\n",
    "\n",
    "# ===== Caso 2: con n mayor (zero-padding) =====\n",
    "X2 = np.fft.fft(x, n=8)  # rellena con 4 ceros\n",
    "print(\"\\nCaso 2: fft(x, n=8) -> zero padding hasta longitud 8\")\n",
    "print(X2)\n",
    "\n",
    "# ===== Caso 3: con n menor (truncado) =====\n",
    "X3 = np.fft.fft(x, n=2)  # se queda solo con los dos primeros valores\n",
    "print(\"\\nCaso 3: fft(x, n=2) -> truncado a longitud 2\")\n",
    "print(X3)\n",
    "\n",
    "# ===== Caso 4: norm=\"ortho\" =====\n",
    "X4 = np.fft.fft(x, norm=\"ortho\")\n",
    "print(\"\\nCaso 4: fft(x, norm='ortho') -> normalización simétrica\")\n",
    "print(X4)\n",
    "\n",
    "# ===== Caso 5: eje específico en un array 2D =====\n",
    "X = np.array([[1, 2, 3, 4],\n",
    "              [5, 6, 7, 8]], dtype=float)\n",
    "\n",
    "# FFT a lo largo de columnas (axis=0)\n",
    "X5 = np.fft.fft(X, axis=0)\n",
    "print(\"\\nCaso 5: fft(X, axis=0) -> FFT columna a columna\")\n",
    "print(X5)\n",
    "\n",
    "# FFT a lo largo de filas (axis=1)\n",
    "X6 = np.fft.fft(X, axis=1)\n",
    "print(\"\\nCaso 6: fft(X, axis=1) -> FFT fila a fila\")\n",
    "print(X6)"
   ]
  },
  {
   "cell_type": "markdown",
   "id": "2d9691cb",
   "metadata": {},
   "source": [
    "# fftshift???\n",
    "\n",
    "Una parte importante que no entendí en clase, qué hace shift? creo que se entiende mejor gráficamente con la imágen cuadrada que definimos antes: "
   ]
  },
  {
   "cell_type": "code",
   "execution_count": 29,
   "id": "05cea836",
   "metadata": {},
   "outputs": [
    {
     "name": "stderr",
     "output_type": "stream",
     "text": [
      "/tmp/ipykernel_28411/282621275.py:10: DeprecationWarning: 'mode' parameter is deprecated and will be removed in Pillow 13 (2026-10-15)\n",
      "  return img_arr, Image.fromarray(img_arr, mode='L') #mode L indica escala de grises IMPORTANTE GUARDARLO COMO ARRAY PARA HACER OPERACIONES\n"
     ]
    },
    {
     "data": {
      "image/png": "[encoded data removed]",
      "text/plain": [
       "<Figure size 1200x800 with 4 Axes>"
      ]
     },
     "metadata": {},
     "output_type": "display_data"
    }
   ],
   "source": [
    "\n",
    "# Imagen base\n",
    "arr, img_pil = create_sine_pattern(128, cycles=8)\n",
    "\n",
    "# === FFT normal ===\n",
    "U = np.fft.fft2(arr)   # usamos el ndarray\n",
    "U_shift = np.fft.fftshift(U)\n",
    "\n",
    "# === FFT con zero-padding (factor 4) === LO QUE DECIA EL PROFE DE MEJORAR LA RESOLUCIÓN EN EL ESPECTRO\n",
    "pad_factor = 4\n",
    "U_pad = np.fft.fft2(arr, s=(arr.shape[0]*pad_factor, arr.shape[1]*pad_factor))\n",
    "U_pad_shift = np.fft.fftshift(U_pad)\n",
    "\n",
    "# === Graficar ===\n",
    "plt.figure(figsize=(12,8))\n",
    "\n",
    "plt.subplot(2,2,1)\n",
    "plt.imshow(np.abs(U), cmap=\"gray\")\n",
    "plt.title(\"FFT sin shift (sin padding)\")\n",
    "plt.axis(\"off\")\n",
    "\n",
    "plt.subplot(2,2,2)\n",
    "plt.imshow(np.abs(U_shift), cmap=\"gray\")\n",
    "plt.title(\"FFT con shift (sin padding)\")\n",
    "plt.axis(\"off\")\n",
    "\n",
    "plt.subplot(2,2,3)\n",
    "plt.imshow(np.abs(U_pad), cmap=\"gray\")\n",
    "plt.title(\"FFT sin shift (con padding x4)\")\n",
    "plt.axis(\"off\")\n",
    "\n",
    "plt.subplot(2,2,4)\n",
    "plt.imshow(np.abs(U_pad_shift), cmap=\"gray\")\n",
    "plt.title(\"FFT con shift (con padding x4)\")\n",
    "plt.axis(\"off\")\n",
    "\n",
    "plt.tight_layout()\n",
    "plt.show()"
   ]
  }
 ],
 "metadata": {
  "kernelspec": {
   "display_name": "Python (pyenv)",
   "language": "python",
   "name": "pyenv"
  },
  "language_info": {
   "codemirror_mode": {
    "name": "ipython",
    "version": 3
   },
   "file_extension": ".py",
   "mimetype": "text/x-python",
   "name": "python",
   "nbconvert_exporter": "python",
   "pygments_lexer": "ipython3",
   "version": "3.11.13"
  }
 },
 "nbformat": 4,
 "nbformat_minor": 5
}
